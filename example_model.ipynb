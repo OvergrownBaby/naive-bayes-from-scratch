{
 "cells": [
  {
   "cell_type": "code",
   "execution_count": 1,
   "metadata": {},
   "outputs": [],
   "source": [
    "import pandas as pd\n",
    "import numpy as np\n",
    "import os\n",
    "np.random.seed(42)"
   ]
  },
  {
   "cell_type": "markdown",
   "metadata": {},
   "source": [
    "# Data Exploration"
   ]
  },
  {
   "cell_type": "code",
   "execution_count": 2,
   "metadata": {},
   "outputs": [
    {
     "data": {
      "text/html": [
       "<div>\n",
       "<style scoped>\n",
       "    .dataframe tbody tr th:only-of-type {\n",
       "        vertical-align: middle;\n",
       "    }\n",
       "\n",
       "    .dataframe tbody tr th {\n",
       "        vertical-align: top;\n",
       "    }\n",
       "\n",
       "    .dataframe thead th {\n",
       "        text-align: right;\n",
       "    }\n",
       "</style>\n",
       "<table border=\"1\" class=\"dataframe\">\n",
       "  <thead>\n",
       "    <tr style=\"text-align: right;\">\n",
       "      <th></th>\n",
       "      <th>label</th>\n",
       "      <th>text</th>\n",
       "    </tr>\n",
       "  </thead>\n",
       "  <tbody>\n",
       "    <tr>\n",
       "      <th>0</th>\n",
       "      <td>0</td>\n",
       "      <td>Received: from rodan.UU.NET by aramis.rutgers....</td>\n",
       "    </tr>\n",
       "    <tr>\n",
       "      <th>1</th>\n",
       "      <td>1</td>\n",
       "      <td>Received: from unknown (HELO groucho.cs.psu.ed...</td>\n",
       "    </tr>\n",
       "    <tr>\n",
       "      <th>2</th>\n",
       "      <td>1</td>\n",
       "      <td>Received:\\n\\tfrom 24-151-178-89.dhcp.kgpt.tn.c...</td>\n",
       "    </tr>\n",
       "    <tr>\n",
       "      <th>3</th>\n",
       "      <td>0</td>\n",
       "      <td>Received: from psuvax1.cs.psu.edu ([130.203.2....</td>\n",
       "    </tr>\n",
       "    <tr>\n",
       "      <th>4</th>\n",
       "      <td>1</td>\n",
       "      <td>Received: from 201-1-198-159.dsl.telesp.net.br...</td>\n",
       "    </tr>\n",
       "  </tbody>\n",
       "</table>\n",
       "</div>"
      ],
      "text/plain": [
       "   label                                               text\n",
       "0      0  Received: from rodan.UU.NET by aramis.rutgers....\n",
       "1      1  Received: from unknown (HELO groucho.cs.psu.ed...\n",
       "2      1  Received:\\n\\tfrom 24-151-178-89.dhcp.kgpt.tn.c...\n",
       "3      0  Received: from psuvax1.cs.psu.edu ([130.203.2....\n",
       "4      1  Received: from 201-1-198-159.dsl.telesp.net.br..."
      ]
     },
     "execution_count": 2,
     "metadata": {},
     "output_type": "execute_result"
    }
   ],
   "source": [
    "index_path = './trec06p/label/index'\n",
    "data_dir = './trec06p/data/'\n",
    "with open(index_path) as f:\n",
    "    index_list = f.readlines()\n",
    "\n",
    "index_dict = {}\n",
    "for index in index_list:\n",
    "    index = index.split()\n",
    "    index_dict[index[1]] = 1 if index[0] == 'spam' else 0\n",
    "\n",
    "corpus = []\n",
    "labels = []\n",
    "for key, value in index_dict.items():\n",
    "    with open(os.path.join(data_dir, key)) as f:\n",
    "        try:\n",
    "            corpus.append(f.read())\n",
    "            labels.append(value)\n",
    "        except:\n",
    "            pass\n",
    "\n",
    "data = pd.DataFrame({'label': labels, 'text': corpus})\n",
    "data.head()"
   ]
  },
  {
   "cell_type": "code",
   "execution_count": 3,
   "metadata": {},
   "outputs": [],
   "source": [
    "emails = [\n",
    "    {\"text\": \"Win big prizes now!\", \"label\": \"spam\"},\n",
    "    {\"text\": \"Important information about your account\", \"label\": \"spam\"},\n",
    "    {\"text\": \"Dear friend, I have a business proposal for you\", \"label\": \"spam\"},\n",
    "    {\"text\": \"This is a normal email, nothing suspicious\", \"label\": \"not spam\"},\n",
    "    {\"text\": \"Another normal message\", \"label\": \"not spam\"},\n",
    "    {\"text\": \"Limited time offer, buy now and save big!\", \"label\": \"spam\"}\n",
    "]\n",
    "emails_df = pd.DataFrame(emails, columns=[\"label\", \"text\"])\n",
    "emails_df['label'] = emails_df['label'].apply(lambda x: 1 if x == 'spam' else 0)\n",
    "data = emails_df"
   ]
  },
  {
   "cell_type": "code",
   "execution_count": 4,
   "metadata": {},
   "outputs": [
    {
     "data": {
      "text/plain": [
       "1    4\n",
       "0    2\n",
       "Name: label, dtype: int64"
      ]
     },
     "execution_count": 4,
     "metadata": {},
     "output_type": "execute_result"
    }
   ],
   "source": [
    "data.label.value_counts()"
   ]
  },
  {
   "cell_type": "markdown",
   "metadata": {},
   "source": [
    "### Converting to lower case"
   ]
  },
  {
   "cell_type": "code",
   "execution_count": 5,
   "metadata": {},
   "outputs": [],
   "source": [
    "# data['text'] = data['text'].apply(lambda x: x.lower())"
   ]
  },
  {
   "cell_type": "markdown",
   "metadata": {},
   "source": [
    "### Data balancing"
   ]
  },
  {
   "cell_type": "code",
   "execution_count": 6,
   "metadata": {},
   "outputs": [],
   "source": [
    "# balanced_data = data.groupby('label').apply(lambda x: x.sample(n=10000, replace=True)).reset_index(drop=True)\n",
    "# balanced_data.label.value_counts()\n",
    "\n",
    "balanced_data = data"
   ]
  },
  {
   "cell_type": "markdown",
   "metadata": {},
   "source": [
    "### Train test split"
   ]
  },
  {
   "cell_type": "code",
   "execution_count": 7,
   "metadata": {},
   "outputs": [],
   "source": [
    "train_df = balanced_data.sample(frac=0.7)\n",
    "test_df = balanced_data.drop(train_df.index)"
   ]
  },
  {
   "cell_type": "code",
   "execution_count": 8,
   "metadata": {},
   "outputs": [
    {
     "data": {
      "text/html": [
       "<div>\n",
       "<style scoped>\n",
       "    .dataframe tbody tr th:only-of-type {\n",
       "        vertical-align: middle;\n",
       "    }\n",
       "\n",
       "    .dataframe tbody tr th {\n",
       "        vertical-align: top;\n",
       "    }\n",
       "\n",
       "    .dataframe thead th {\n",
       "        text-align: right;\n",
       "    }\n",
       "</style>\n",
       "<table border=\"1\" class=\"dataframe\">\n",
       "  <thead>\n",
       "    <tr style=\"text-align: right;\">\n",
       "      <th></th>\n",
       "      <th>label</th>\n",
       "      <th>text</th>\n",
       "    </tr>\n",
       "  </thead>\n",
       "  <tbody>\n",
       "    <tr>\n",
       "      <th>0</th>\n",
       "      <td>1</td>\n",
       "      <td>Win big prizes now!</td>\n",
       "    </tr>\n",
       "    <tr>\n",
       "      <th>1</th>\n",
       "      <td>1</td>\n",
       "      <td>Important information about your account</td>\n",
       "    </tr>\n",
       "    <tr>\n",
       "      <th>5</th>\n",
       "      <td>1</td>\n",
       "      <td>Limited time offer, buy now and save big!</td>\n",
       "    </tr>\n",
       "    <tr>\n",
       "      <th>2</th>\n",
       "      <td>1</td>\n",
       "      <td>Dear friend, I have a business proposal for you</td>\n",
       "    </tr>\n",
       "  </tbody>\n",
       "</table>\n",
       "</div>"
      ],
      "text/plain": [
       "   label                                             text\n",
       "0      1                              Win big prizes now!\n",
       "1      1         Important information about your account\n",
       "5      1        Limited time offer, buy now and save big!\n",
       "2      1  Dear friend, I have a business proposal for you"
      ]
     },
     "execution_count": 8,
     "metadata": {},
     "output_type": "execute_result"
    }
   ],
   "source": [
    "train_df"
   ]
  },
  {
   "cell_type": "markdown",
   "metadata": {},
   "source": [
    "# Feature Engineering"
   ]
  },
  {
   "cell_type": "markdown",
   "metadata": {},
   "source": [
    "\"earn money,” “act now,” “click here,” “buy now,” “limited time offer,” “get rich quick,” “earn extra cash,” “make money fast,” “guaranteed,” “winner,” “bonus,” and “urgent."
   ]
  },
  {
   "cell_type": "code",
   "execution_count": 9,
   "metadata": {},
   "outputs": [],
   "source": [
    "def extract_features(text: str):\n",
    "    # List of keywords to check in the text\n",
    "    keywords = [\n",
    "        # 'FREE', 'free', 'earn money', 'act now', 'click here', 'buy now',\n",
    "        # 'limited time offer', 'get rich quick', 'earn extra cash', 'make money fast',\n",
    "        # 'guaranteed', 'winner', 'bonus', 'urgent', 'credit card', 'lowest price',\n",
    "        # 'amazing', 'incredible deal', 'no cost', 'risk free', 'special promotion',\n",
    "        # 'exclusive offer', 'million dollars', 'once in a lifetime', 'password',\n",
    "        # 'account suspended', 'confidentiality', 'discount',\n",
    "        # 'win', 'winner', 'cash', 'prize', 'exclusive', 'urgent', 'important', \n",
    "        'free', 'act now', 'offer', 'credit', 'cheap', 'bonus', 'click', 'apply', 'buy', 'limited', 'guaranteed', 'save'\n",
    "    ]\n",
    "\n",
    "    # Create a dictionary of features based on the presence of keywords\n",
    "    features = {f'has_{keyword.replace(\" \", \"_\").lower()}': text.lower().count(keyword.lower()) > 0 for keyword in keywords}\n",
    "\n",
    "    return features\n"
   ]
  },
  {
   "cell_type": "markdown",
   "metadata": {},
   "source": [
    "# Pre-processing"
   ]
  },
  {
   "cell_type": "code",
   "execution_count": 10,
   "metadata": {},
   "outputs": [],
   "source": [
    "def preprocess(X):\n",
    "    features = X.iloc[:,0].apply(extract_features).apply(pd.Series)\n",
    "    X = pd.concat([X, features], axis=1).drop('text', axis=1)\n",
    "    return X\n",
    "\n",
    "X_train = preprocess(train_df.drop('label', axis=1))\n",
    "X_test = preprocess(test_df.drop('label', axis=1))\n",
    "y_train = train_df['label']\n",
    "y_test = test_df['label']"
   ]
  },
  {
   "cell_type": "code",
   "execution_count": 11,
   "metadata": {},
   "outputs": [
    {
     "data": {
      "text/plain": [
       "has_free          0\n",
       "has_act_now       0\n",
       "has_offer         1\n",
       "has_credit        0\n",
       "has_cheap         0\n",
       "has_bonus         0\n",
       "has_click         0\n",
       "has_apply         0\n",
       "has_buy           1\n",
       "has_limited       1\n",
       "has_guaranteed    0\n",
       "has_save          1\n",
       "dtype: int64"
      ]
     },
     "execution_count": 11,
     "metadata": {},
     "output_type": "execute_result"
    }
   ],
   "source": [
    "X_train.sum()"
   ]
  },
  {
   "cell_type": "code",
   "execution_count": 15,
   "metadata": {},
   "outputs": [
    {
     "data": {
      "text/html": [
       "<div>\n",
       "<style scoped>\n",
       "    .dataframe tbody tr th:only-of-type {\n",
       "        vertical-align: middle;\n",
       "    }\n",
       "\n",
       "    .dataframe tbody tr th {\n",
       "        vertical-align: top;\n",
       "    }\n",
       "\n",
       "    .dataframe thead th {\n",
       "        text-align: right;\n",
       "    }\n",
       "</style>\n",
       "<table border=\"1\" class=\"dataframe\">\n",
       "  <thead>\n",
       "    <tr style=\"text-align: right;\">\n",
       "      <th></th>\n",
       "      <th>has_free</th>\n",
       "      <th>has_act_now</th>\n",
       "      <th>has_offer</th>\n",
       "      <th>has_credit</th>\n",
       "      <th>has_cheap</th>\n",
       "      <th>has_bonus</th>\n",
       "      <th>has_click</th>\n",
       "      <th>has_apply</th>\n",
       "      <th>has_buy</th>\n",
       "      <th>has_limited</th>\n",
       "      <th>has_guaranteed</th>\n",
       "      <th>has_save</th>\n",
       "    </tr>\n",
       "  </thead>\n",
       "  <tbody>\n",
       "    <tr>\n",
       "      <th>0</th>\n",
       "      <td>False</td>\n",
       "      <td>False</td>\n",
       "      <td>False</td>\n",
       "      <td>False</td>\n",
       "      <td>False</td>\n",
       "      <td>False</td>\n",
       "      <td>False</td>\n",
       "      <td>False</td>\n",
       "      <td>False</td>\n",
       "      <td>False</td>\n",
       "      <td>False</td>\n",
       "      <td>False</td>\n",
       "    </tr>\n",
       "    <tr>\n",
       "      <th>1</th>\n",
       "      <td>False</td>\n",
       "      <td>False</td>\n",
       "      <td>False</td>\n",
       "      <td>False</td>\n",
       "      <td>False</td>\n",
       "      <td>False</td>\n",
       "      <td>False</td>\n",
       "      <td>False</td>\n",
       "      <td>False</td>\n",
       "      <td>False</td>\n",
       "      <td>False</td>\n",
       "      <td>False</td>\n",
       "    </tr>\n",
       "    <tr>\n",
       "      <th>5</th>\n",
       "      <td>False</td>\n",
       "      <td>False</td>\n",
       "      <td>True</td>\n",
       "      <td>False</td>\n",
       "      <td>False</td>\n",
       "      <td>False</td>\n",
       "      <td>False</td>\n",
       "      <td>False</td>\n",
       "      <td>True</td>\n",
       "      <td>True</td>\n",
       "      <td>False</td>\n",
       "      <td>True</td>\n",
       "    </tr>\n",
       "    <tr>\n",
       "      <th>2</th>\n",
       "      <td>False</td>\n",
       "      <td>False</td>\n",
       "      <td>False</td>\n",
       "      <td>False</td>\n",
       "      <td>False</td>\n",
       "      <td>False</td>\n",
       "      <td>False</td>\n",
       "      <td>False</td>\n",
       "      <td>False</td>\n",
       "      <td>False</td>\n",
       "      <td>False</td>\n",
       "      <td>False</td>\n",
       "    </tr>\n",
       "  </tbody>\n",
       "</table>\n",
       "</div>"
      ],
      "text/plain": [
       "   has_free  has_act_now  has_offer  has_credit  has_cheap  has_bonus  \\\n",
       "0     False        False      False       False      False      False   \n",
       "1     False        False      False       False      False      False   \n",
       "5     False        False       True       False      False      False   \n",
       "2     False        False      False       False      False      False   \n",
       "\n",
       "   has_click  has_apply  has_buy  has_limited  has_guaranteed  has_save  \n",
       "0      False      False    False        False           False     False  \n",
       "1      False      False    False        False           False     False  \n",
       "5      False      False     True         True           False      True  \n",
       "2      False      False    False        False           False     False  "
      ]
     },
     "execution_count": 15,
     "metadata": {},
     "output_type": "execute_result"
    }
   ],
   "source": [
    "X_train"
   ]
  },
  {
   "cell_type": "markdown",
   "metadata": {},
   "source": [
    "# Modelling"
   ]
  },
  {
   "cell_type": "code",
   "execution_count": 12,
   "metadata": {},
   "outputs": [
    {
     "name": "stdout",
     "output_type": "stream",
     "text": [
      "Model Parameters:\n",
      "Log Likelihood:  True\n"
     ]
    },
    {
     "data": {
      "text/plain": [
       "0.0"
      ]
     },
     "execution_count": 12,
     "metadata": {},
     "output_type": "execute_result"
    }
   ],
   "source": [
    "from naive_bayes import BernoulliNB\n",
    "\n",
    "myBNB = BernoulliNB(log_likelihood=True)\n",
    "myBNB.fit(X_train, y_train)\n",
    "y_pred = myBNB.predict(X_test)\n",
    "myBNB.score(X_test, y_test)"
   ]
  },
  {
   "cell_type": "code",
   "execution_count": 13,
   "metadata": {},
   "outputs": [
    {
     "data": {
      "text/plain": [
       "3    0\n",
       "4    0\n",
       "Name: label, dtype: int64"
      ]
     },
     "execution_count": 13,
     "metadata": {},
     "output_type": "execute_result"
    }
   ],
   "source": [
    "y_test"
   ]
  },
  {
   "cell_type": "code",
   "execution_count": 14,
   "metadata": {},
   "outputs": [
    {
     "data": {
      "text/plain": [
       "[1, 1]"
      ]
     },
     "execution_count": 14,
     "metadata": {},
     "output_type": "execute_result"
    }
   ],
   "source": [
    "y_pred"
   ]
  }
 ],
 "metadata": {
  "kernelspec": {
   "display_name": "Python 3",
   "language": "python",
   "name": "python3"
  },
  "language_info": {
   "codemirror_mode": {
    "name": "ipython",
    "version": 3
   },
   "file_extension": ".py",
   "mimetype": "text/x-python",
   "name": "python",
   "nbconvert_exporter": "python",
   "pygments_lexer": "ipython3",
   "version": "3.10.7"
  }
 },
 "nbformat": 4,
 "nbformat_minor": 2
}
