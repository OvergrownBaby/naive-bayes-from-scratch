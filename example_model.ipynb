{
 "cells": [
  {
   "cell_type": "markdown",
   "metadata": {},
   "source": [
    "Todo: Create a class for a classifier/model, call train method to update the weights (class attributes), predict should also be a method"
   ]
  },
  {
   "cell_type": "code",
   "execution_count": 1,
   "metadata": {},
   "outputs": [],
   "source": [
    "import pandas as pd\n",
    "import numpy as np\n",
    "from naive_bayes import *\n",
    "import os"
   ]
  },
  {
   "cell_type": "markdown",
   "metadata": {},
   "source": [
    "### Data Processing"
   ]
  },
  {
   "cell_type": "code",
   "execution_count": 2,
   "metadata": {},
   "outputs": [
    {
     "data": {
      "text/html": [
       "<div>\n",
       "<style scoped>\n",
       "    .dataframe tbody tr th:only-of-type {\n",
       "        vertical-align: middle;\n",
       "    }\n",
       "\n",
       "    .dataframe tbody tr th {\n",
       "        vertical-align: top;\n",
       "    }\n",
       "\n",
       "    .dataframe thead th {\n",
       "        text-align: right;\n",
       "    }\n",
       "</style>\n",
       "<table border=\"1\" class=\"dataframe\">\n",
       "  <thead>\n",
       "    <tr style=\"text-align: right;\">\n",
       "      <th></th>\n",
       "      <th>label</th>\n",
       "      <th>text</th>\n",
       "    </tr>\n",
       "  </thead>\n",
       "  <tbody>\n",
       "    <tr>\n",
       "      <th>0</th>\n",
       "      <td>0</td>\n",
       "      <td>Received: from rodan.UU.NET by aramis.rutgers....</td>\n",
       "    </tr>\n",
       "    <tr>\n",
       "      <th>1</th>\n",
       "      <td>1</td>\n",
       "      <td>Received: from unknown (HELO groucho.cs.psu.ed...</td>\n",
       "    </tr>\n",
       "    <tr>\n",
       "      <th>2</th>\n",
       "      <td>1</td>\n",
       "      <td>Received:\\n\\tfrom 24-151-178-89.dhcp.kgpt.tn.c...</td>\n",
       "    </tr>\n",
       "    <tr>\n",
       "      <th>3</th>\n",
       "      <td>0</td>\n",
       "      <td>Received: from psuvax1.cs.psu.edu ([130.203.2....</td>\n",
       "    </tr>\n",
       "    <tr>\n",
       "      <th>4</th>\n",
       "      <td>1</td>\n",
       "      <td>Received: from 201-1-198-159.dsl.telesp.net.br...</td>\n",
       "    </tr>\n",
       "  </tbody>\n",
       "</table>\n",
       "</div>"
      ],
      "text/plain": [
       "   label                                               text\n",
       "0      0  Received: from rodan.UU.NET by aramis.rutgers....\n",
       "1      1  Received: from unknown (HELO groucho.cs.psu.ed...\n",
       "2      1  Received:\\n\\tfrom 24-151-178-89.dhcp.kgpt.tn.c...\n",
       "3      0  Received: from psuvax1.cs.psu.edu ([130.203.2....\n",
       "4      1  Received: from 201-1-198-159.dsl.telesp.net.br..."
      ]
     },
     "execution_count": 2,
     "metadata": {},
     "output_type": "execute_result"
    }
   ],
   "source": [
    "index_path = './trec06p/label/index'\n",
    "data_dir = './trec06p/data/'\n",
    "with open(index_path) as f:\n",
    "    index_list = f.readlines()\n",
    "\n",
    "index_dict = {}\n",
    "for index in index_list:\n",
    "    index = index.split()\n",
    "    index_dict[index[1]] = 1 if index[0] == 'spam' else 0\n",
    "\n",
    "corpus = []\n",
    "labels = []\n",
    "for key, value in index_dict.items():\n",
    "    with open(os.path.join(data_dir, key)) as f:\n",
    "        try:\n",
    "            corpus.append(f.read())\n",
    "            labels.append(value)\n",
    "        except:\n",
    "            pass\n",
    "\n",
    "data = pd.DataFrame({'label': labels, 'text': corpus})\n",
    "data.head()"
   ]
  },
  {
   "cell_type": "code",
   "execution_count": 3,
   "metadata": {},
   "outputs": [
    {
     "data": {
      "text/plain": [
       "1    20030\n",
       "0    12371\n",
       "Name: label, dtype: int64"
      ]
     },
     "execution_count": 3,
     "metadata": {},
     "output_type": "execute_result"
    }
   ],
   "source": [
    "data.label.value_counts()"
   ]
  },
  {
   "cell_type": "markdown",
   "metadata": {},
   "source": [
    "Looks like we need to do some balancing"
   ]
  },
  {
   "cell_type": "code",
   "execution_count": 4,
   "metadata": {},
   "outputs": [
    {
     "data": {
      "text/plain": [
       "0    10000\n",
       "1    10000\n",
       "Name: label, dtype: int64"
      ]
     },
     "execution_count": 4,
     "metadata": {},
     "output_type": "execute_result"
    }
   ],
   "source": [
    "balanced_data = data.groupby('label').apply(lambda x: x.sample(n=10000)).reset_index(drop=True)\n",
    "balanced_data.label.value_counts()"
   ]
  },
  {
   "cell_type": "markdown",
   "metadata": {},
   "source": [
    "Train test split"
   ]
  },
  {
   "cell_type": "code",
   "execution_count": 5,
   "metadata": {},
   "outputs": [],
   "source": [
    "train_df = balanced_data.sample(frac=0.8)\n",
    "test_df = balanced_data.drop(train_df.index)"
   ]
  },
  {
   "cell_type": "markdown",
   "metadata": {},
   "source": [
    "### Feature Engineering"
   ]
  },
  {
   "cell_type": "markdown",
   "metadata": {},
   "source": [
    "\"earn money,” “act now,” “click here,” “buy now,” “limited time offer,” “get rich quick,” “earn extra cash,” “make money fast,” “guaranteed,” “winner,” “bonus,” and “urgent."
   ]
  },
  {
   "cell_type": "code",
   "execution_count": 6,
   "metadata": {},
   "outputs": [],
   "source": [
    "\n",
    "def extract_features(text: str):\n",
    "    features = {\n",
    "        'has_FREE': text.count('FREE') > 0,\n",
    "        'has_earn_money': text.count('earn money') > 0,\n",
    "        'has_act_now': text.count('act now') > 0,\n",
    "        'has_click_here': text.count('click here') > 0,\n",
    "        'has_buy_now': text.count('buy now') > 0,\n",
    "        'has_limited_time_offer': text.count('limited time offer') > 0,\n",
    "        'has_get_rich_quick': text.count('get rich quick') > 0,\n",
    "        'has_earn_extra_cash': text.count('earn extra cash') > 0,\n",
    "        'has_make_money_fast': text.count('make money fast') > 0,\n",
    "        'has_guaranteed': text.count('guaranteed') > 0,\n",
    "        'has_winner': text.count('winner') > 0,\n",
    "        'has_bonus': text.count('bonus') > 0,\n",
    "        'has_urgent': text.count('urgent') > 0\n",
    "    }\n",
    "    return features\n",
    "\n",
    "def preprocess(X):\n",
    "    features = X.iloc[:,0].apply(extract_features).apply(pd.Series)\n",
    "    X = pd.concat([X, features], axis=1)\n",
    "    return X\n",
    "\n",
    "X_train = preprocess(train_df.drop('label', axis=1))\n",
    "X_test = preprocess(test_df.drop('label', axis=1))\n",
    "y_train = train_df['label']\n",
    "y_test = test_df['label']"
   ]
  },
  {
   "cell_type": "markdown",
   "metadata": {},
   "source": [
    "### Modelling"
   ]
  },
  {
   "cell_type": "code",
   "execution_count": 7,
   "metadata": {},
   "outputs": [],
   "source": [
    "from naive_bayes import *"
   ]
  },
  {
   "cell_type": "code",
   "execution_count": 8,
   "metadata": {},
   "outputs": [
    {
     "data": {
      "text/plain": [
       "0.51875"
      ]
     },
     "execution_count": 8,
     "metadata": {},
     "output_type": "execute_result"
    }
   ],
   "source": [
    "myBNB = bernoulliNB()\n",
    "myBNB.fit(X_train, y_train)\n",
    "y_pred = myBNB.predict(X_test)\n",
    "myBNB.score(X_test, y_test)"
   ]
  }
 ],
 "metadata": {
  "kernelspec": {
   "display_name": "Python 3",
   "language": "python",
   "name": "python3"
  },
  "language_info": {
   "codemirror_mode": {
    "name": "ipython",
    "version": 3
   },
   "file_extension": ".py",
   "mimetype": "text/x-python",
   "name": "python",
   "nbconvert_exporter": "python",
   "pygments_lexer": "ipython3",
   "version": "3.10.7"
  }
 },
 "nbformat": 4,
 "nbformat_minor": 2
}
