{
 "cells": [
  {
   "cell_type": "code",
   "execution_count": 1,
   "metadata": {},
   "outputs": [],
   "source": [
    "import pandas as pd\n",
    "import numpy as np\n",
    "import os\n",
    "from sklearn.metrics import accuracy_score\n",
    "np.random.seed(42)"
   ]
  },
  {
   "cell_type": "markdown",
   "metadata": {},
   "source": [
    "# Data Exploration"
   ]
  },
  {
   "cell_type": "code",
   "execution_count": 2,
   "metadata": {},
   "outputs": [
    {
     "data": {
      "text/html": [
       "<div>\n",
       "<style scoped>\n",
       "    .dataframe tbody tr th:only-of-type {\n",
       "        vertical-align: middle;\n",
       "    }\n",
       "\n",
       "    .dataframe tbody tr th {\n",
       "        vertical-align: top;\n",
       "    }\n",
       "\n",
       "    .dataframe thead th {\n",
       "        text-align: right;\n",
       "    }\n",
       "</style>\n",
       "<table border=\"1\" class=\"dataframe\">\n",
       "  <thead>\n",
       "    <tr style=\"text-align: right;\">\n",
       "      <th></th>\n",
       "      <th>label</th>\n",
       "      <th>text</th>\n",
       "    </tr>\n",
       "  </thead>\n",
       "  <tbody>\n",
       "    <tr>\n",
       "      <th>0</th>\n",
       "      <td>0</td>\n",
       "      <td>Received: from rodan.UU.NET by aramis.rutgers....</td>\n",
       "    </tr>\n",
       "    <tr>\n",
       "      <th>1</th>\n",
       "      <td>1</td>\n",
       "      <td>Received: from unknown (HELO groucho.cs.psu.ed...</td>\n",
       "    </tr>\n",
       "    <tr>\n",
       "      <th>2</th>\n",
       "      <td>1</td>\n",
       "      <td>Received:\\n\\tfrom 24-151-178-89.dhcp.kgpt.tn.c...</td>\n",
       "    </tr>\n",
       "    <tr>\n",
       "      <th>3</th>\n",
       "      <td>0</td>\n",
       "      <td>Received: from psuvax1.cs.psu.edu ([130.203.2....</td>\n",
       "    </tr>\n",
       "    <tr>\n",
       "      <th>4</th>\n",
       "      <td>1</td>\n",
       "      <td>Received: from 201-1-198-159.dsl.telesp.net.br...</td>\n",
       "    </tr>\n",
       "  </tbody>\n",
       "</table>\n",
       "</div>"
      ],
      "text/plain": [
       "   label                                               text\n",
       "0      0  Received: from rodan.UU.NET by aramis.rutgers....\n",
       "1      1  Received: from unknown (HELO groucho.cs.psu.ed...\n",
       "2      1  Received:\\n\\tfrom 24-151-178-89.dhcp.kgpt.tn.c...\n",
       "3      0  Received: from psuvax1.cs.psu.edu ([130.203.2....\n",
       "4      1  Received: from 201-1-198-159.dsl.telesp.net.br..."
      ]
     },
     "execution_count": 2,
     "metadata": {},
     "output_type": "execute_result"
    }
   ],
   "source": [
    "index_path = './trec06p/label/index'\n",
    "data_dir = './trec06p/data/'\n",
    "with open(index_path) as f:\n",
    "    index_list = f.readlines()\n",
    "\n",
    "index_dict = {}\n",
    "for index in index_list:\n",
    "    index = index.split()\n",
    "    index_dict[index[1]] = 1 if index[0] == 'spam' else 0\n",
    "\n",
    "corpus = []\n",
    "labels = []\n",
    "for key, value in index_dict.items():\n",
    "    with open(os.path.join(data_dir, key)) as f:\n",
    "        try:\n",
    "            corpus.append(f.read())\n",
    "            labels.append(value)\n",
    "        except:\n",
    "            pass\n",
    "\n",
    "raw_data = pd.DataFrame({'label': labels, 'text': corpus})\n",
    "raw_data.head()"
   ]
  },
  {
   "cell_type": "markdown",
   "metadata": {},
   "source": [
    "### Toy dataset (没什么用，拿来测试模型能不能正常跑)"
   ]
  },
  {
   "cell_type": "code",
   "execution_count": 3,
   "metadata": {},
   "outputs": [],
   "source": [
    "toy = [\n",
    "    {\"text\": \"Win big prizes now!\", \"label\": \"spam\"},\n",
    "    {\"text\": \"Important information about your account\", \"label\": \"spam\"},\n",
    "    {\"text\": \"Dear friend, I have a business proposal for you\", \"label\": \"spam\"},\n",
    "    {\"text\": \"This is a normal email, nothing suspicious\", \"label\": \"not spam\"},\n",
    "    {\"text\": \"Another normal message\", \"label\": \"not spam\"},\n",
    "    {\"text\": \"Limited time offer, buy now and save big!\", \"label\": \"spam\"}\n",
    "]\n",
    "toy_df = pd.DataFrame(toy, columns=[\"label\", \"text\"])\n",
    "toy_df['label'] = toy_df['label'].apply(lambda x: 1 if x == 'spam' else 0)\n",
    "# data = toy_df # uncomment this line to use the toy dataset"
   ]
  },
  {
   "cell_type": "markdown",
   "metadata": {},
   "source": [
    "# Doing things to the dataset"
   ]
  },
  {
   "cell_type": "markdown",
   "metadata": {},
   "source": [
    "### 1.1 Converting to lower case"
   ]
  },
  {
   "cell_type": "code",
   "execution_count": 4,
   "metadata": {},
   "outputs": [],
   "source": [
    "data = raw_data.copy()\n",
    "data['text'] = data['text'].apply(lambda x: x.lower())"
   ]
  },
  {
   "cell_type": "markdown",
   "metadata": {},
   "source": [
    "### 1.2 Data balancing （发现没有balance效果更好)"
   ]
  },
  {
   "cell_type": "code",
   "execution_count": 5,
   "metadata": {},
   "outputs": [
    {
     "data": {
      "text/plain": [
       "1    20030\n",
       "0    12371\n",
       "Name: label, dtype: int64"
      ]
     },
     "execution_count": 5,
     "metadata": {},
     "output_type": "execute_result"
    }
   ],
   "source": [
    "# data = data.groupby('label').apply(lambda x: x.sample(n=10000, replace=True)).reset_index(drop=True)\n",
    "data.label.value_counts()"
   ]
  },
  {
   "cell_type": "markdown",
   "metadata": {},
   "source": [
    "### 2. Train test split"
   ]
  },
  {
   "cell_type": "code",
   "execution_count": 6,
   "metadata": {},
   "outputs": [],
   "source": [
    "def train_test_split(data: pd.DataFrame, test_size=0.3):\n",
    "    train_df = data.sample(frac=1-test_size)\n",
    "    test_df = data.drop(train_df.index)\n",
    "    return train_df.reset_index(drop=True), test_df.reset_index(drop=True)\n",
    "\n",
    "train_df, test_df = train_test_split(data, test_size=0.3)"
   ]
  },
  {
   "cell_type": "markdown",
   "metadata": {},
   "source": [
    "# Feature Engineering"
   ]
  },
  {
   "cell_type": "markdown",
   "metadata": {},
   "source": [
    "\"earn money,” “act now,” “click here,” “buy now,” “limited time offer,” “get rich quick,” “earn extra cash,” “make money fast,” “guaranteed,” “winner,” “bonus,” and “urgent."
   ]
  },
  {
   "cell_type": "markdown",
   "metadata": {},
   "source": [
    "### 1. Feature extraction functions\n",
    "Todo: use count vectorizer to see if it improves"
   ]
  },
  {
   "cell_type": "code",
   "execution_count": 7,
   "metadata": {},
   "outputs": [],
   "source": [
    "def get_features_bernoulli(text: str):\n",
    "    keywords = [\n",
    "        'FREE', 'free', 'earn money', 'act now', 'click here', 'buy now',\n",
    "        'limited time offer', 'get rich quick', 'earn extra cash', 'make money fast',\n",
    "        'guaranteed', 'winner', 'bonus', 'urgent', 'credit card', 'lowest price',\n",
    "        'amazing', 'incredible deal', 'no cost', 'risk free', 'special promotion',\n",
    "        'exclusive offer', 'million dollars', 'once in a lifetime', 'password',\n",
    "        'account suspended', 'confidentiality', 'discount',\n",
    "        'win', 'winner', 'cash', 'prize', 'exclusive', 'urgent', 'important', \n",
    "        'free', 'act now', 'offer', 'credit', 'cheap', 'bonus', 'click', 'apply', 'buy', 'limited', 'guaranteed', 'save'\n",
    "    ]\n",
    "\n",
    "    features = {f'has_{keyword.replace(\" \", \"_\")}': text.lower().count(keyword.lower()) > 0 for keyword in keywords}\n",
    "    return features\n",
    "\n",
    "def get_features_multinomial(text: str):\n",
    "    keywords = [\n",
    "        'FREE', 'free', 'earn money', 'act now', 'click here', 'buy now',\n",
    "        'limited time offer', 'get rich quick', 'earn extra cash', 'make money fast',\n",
    "        'guaranteed', 'winner', 'bonus', 'urgent', 'credit card', 'lowest price',\n",
    "        'amazing', 'incredible deal', 'no cost', 'risk free', 'special promotion',\n",
    "        'exclusive offer', 'million dollars', 'once in a lifetime', 'password',\n",
    "        'account suspended', 'confidentiality', 'discount',\n",
    "        'win', 'winner', 'cash', 'prize', 'exclusive', 'urgent', 'important', \n",
    "        'free', 'act now', 'offer', 'credit', 'cheap', 'bonus', 'click', 'apply', 'buy', 'limited', 'guaranteed', 'save'\n",
    "    ]\n",
    "\n",
    "    features = {f'count_{keyword.replace(\" \", \"_\")}': text.lower().count(keyword.lower()) for keyword in keywords}\n",
    "    return features\n"
   ]
  },
  {
   "cell_type": "markdown",
   "metadata": {},
   "source": [
    "# Pre-processing"
   ]
  },
  {
   "cell_type": "code",
   "execution_count": 8,
   "metadata": {},
   "outputs": [
    {
     "data": {
      "text/html": [
       "<div>\n",
       "<style scoped>\n",
       "    .dataframe tbody tr th:only-of-type {\n",
       "        vertical-align: middle;\n",
       "    }\n",
       "\n",
       "    .dataframe tbody tr th {\n",
       "        vertical-align: top;\n",
       "    }\n",
       "\n",
       "    .dataframe thead th {\n",
       "        text-align: right;\n",
       "    }\n",
       "</style>\n",
       "<table border=\"1\" class=\"dataframe\">\n",
       "  <thead>\n",
       "    <tr style=\"text-align: right;\">\n",
       "      <th></th>\n",
       "      <th>count_FREE</th>\n",
       "      <th>count_free</th>\n",
       "      <th>count_earn_money</th>\n",
       "      <th>count_act_now</th>\n",
       "      <th>count_click_here</th>\n",
       "      <th>count_buy_now</th>\n",
       "      <th>count_limited_time_offer</th>\n",
       "      <th>count_get_rich_quick</th>\n",
       "      <th>count_earn_extra_cash</th>\n",
       "      <th>count_make_money_fast</th>\n",
       "      <th>...</th>\n",
       "      <th>count_exclusive</th>\n",
       "      <th>count_important</th>\n",
       "      <th>count_offer</th>\n",
       "      <th>count_credit</th>\n",
       "      <th>count_cheap</th>\n",
       "      <th>count_click</th>\n",
       "      <th>count_apply</th>\n",
       "      <th>count_buy</th>\n",
       "      <th>count_limited</th>\n",
       "      <th>count_save</th>\n",
       "    </tr>\n",
       "  </thead>\n",
       "  <tbody>\n",
       "    <tr>\n",
       "      <th>0</th>\n",
       "      <td>0</td>\n",
       "      <td>0</td>\n",
       "      <td>0</td>\n",
       "      <td>0</td>\n",
       "      <td>0</td>\n",
       "      <td>0</td>\n",
       "      <td>0</td>\n",
       "      <td>0</td>\n",
       "      <td>0</td>\n",
       "      <td>0</td>\n",
       "      <td>...</td>\n",
       "      <td>0</td>\n",
       "      <td>0</td>\n",
       "      <td>1</td>\n",
       "      <td>0</td>\n",
       "      <td>0</td>\n",
       "      <td>0</td>\n",
       "      <td>0</td>\n",
       "      <td>0</td>\n",
       "      <td>0</td>\n",
       "      <td>0</td>\n",
       "    </tr>\n",
       "    <tr>\n",
       "      <th>1</th>\n",
       "      <td>0</td>\n",
       "      <td>0</td>\n",
       "      <td>0</td>\n",
       "      <td>0</td>\n",
       "      <td>0</td>\n",
       "      <td>0</td>\n",
       "      <td>0</td>\n",
       "      <td>0</td>\n",
       "      <td>0</td>\n",
       "      <td>0</td>\n",
       "      <td>...</td>\n",
       "      <td>0</td>\n",
       "      <td>0</td>\n",
       "      <td>0</td>\n",
       "      <td>0</td>\n",
       "      <td>0</td>\n",
       "      <td>0</td>\n",
       "      <td>0</td>\n",
       "      <td>1</td>\n",
       "      <td>0</td>\n",
       "      <td>0</td>\n",
       "    </tr>\n",
       "    <tr>\n",
       "      <th>2</th>\n",
       "      <td>0</td>\n",
       "      <td>0</td>\n",
       "      <td>0</td>\n",
       "      <td>0</td>\n",
       "      <td>0</td>\n",
       "      <td>0</td>\n",
       "      <td>0</td>\n",
       "      <td>0</td>\n",
       "      <td>0</td>\n",
       "      <td>0</td>\n",
       "      <td>...</td>\n",
       "      <td>0</td>\n",
       "      <td>0</td>\n",
       "      <td>0</td>\n",
       "      <td>0</td>\n",
       "      <td>0</td>\n",
       "      <td>0</td>\n",
       "      <td>0</td>\n",
       "      <td>0</td>\n",
       "      <td>0</td>\n",
       "      <td>0</td>\n",
       "    </tr>\n",
       "    <tr>\n",
       "      <th>3</th>\n",
       "      <td>0</td>\n",
       "      <td>0</td>\n",
       "      <td>0</td>\n",
       "      <td>0</td>\n",
       "      <td>0</td>\n",
       "      <td>0</td>\n",
       "      <td>0</td>\n",
       "      <td>0</td>\n",
       "      <td>0</td>\n",
       "      <td>0</td>\n",
       "      <td>...</td>\n",
       "      <td>0</td>\n",
       "      <td>0</td>\n",
       "      <td>0</td>\n",
       "      <td>0</td>\n",
       "      <td>0</td>\n",
       "      <td>0</td>\n",
       "      <td>0</td>\n",
       "      <td>0</td>\n",
       "      <td>0</td>\n",
       "      <td>0</td>\n",
       "    </tr>\n",
       "    <tr>\n",
       "      <th>4</th>\n",
       "      <td>0</td>\n",
       "      <td>0</td>\n",
       "      <td>0</td>\n",
       "      <td>0</td>\n",
       "      <td>0</td>\n",
       "      <td>0</td>\n",
       "      <td>0</td>\n",
       "      <td>0</td>\n",
       "      <td>0</td>\n",
       "      <td>0</td>\n",
       "      <td>...</td>\n",
       "      <td>0</td>\n",
       "      <td>0</td>\n",
       "      <td>0</td>\n",
       "      <td>0</td>\n",
       "      <td>0</td>\n",
       "      <td>0</td>\n",
       "      <td>0</td>\n",
       "      <td>0</td>\n",
       "      <td>0</td>\n",
       "      <td>0</td>\n",
       "    </tr>\n",
       "  </tbody>\n",
       "</table>\n",
       "<p>5 rows × 41 columns</p>\n",
       "</div>"
      ],
      "text/plain": [
       "   count_FREE  count_free  count_earn_money  count_act_now  count_click_here  \\\n",
       "0           0           0                 0              0                 0   \n",
       "1           0           0                 0              0                 0   \n",
       "2           0           0                 0              0                 0   \n",
       "3           0           0                 0              0                 0   \n",
       "4           0           0                 0              0                 0   \n",
       "\n",
       "   count_buy_now  count_limited_time_offer  count_get_rich_quick  \\\n",
       "0              0                         0                     0   \n",
       "1              0                         0                     0   \n",
       "2              0                         0                     0   \n",
       "3              0                         0                     0   \n",
       "4              0                         0                     0   \n",
       "\n",
       "   count_earn_extra_cash  count_make_money_fast  ...  count_exclusive  \\\n",
       "0                      0                      0  ...                0   \n",
       "1                      0                      0  ...                0   \n",
       "2                      0                      0  ...                0   \n",
       "3                      0                      0  ...                0   \n",
       "4                      0                      0  ...                0   \n",
       "\n",
       "   count_important  count_offer  count_credit  count_cheap  count_click  \\\n",
       "0                0            1             0            0            0   \n",
       "1                0            0             0            0            0   \n",
       "2                0            0             0            0            0   \n",
       "3                0            0             0            0            0   \n",
       "4                0            0             0            0            0   \n",
       "\n",
       "   count_apply  count_buy  count_limited  count_save  \n",
       "0            0          0              0           0  \n",
       "1            0          1              0           0  \n",
       "2            0          0              0           0  \n",
       "3            0          0              0           0  \n",
       "4            0          0              0           0  \n",
       "\n",
       "[5 rows x 41 columns]"
      ]
     },
     "execution_count": 8,
     "metadata": {},
     "output_type": "execute_result"
    }
   ],
   "source": [
    "def preprocess(X):\n",
    "    features = X.iloc[:,0].apply(get_features_multinomial).apply(pd.Series)\n",
    "    X = pd.concat([X, features], axis=1).drop('text', axis=1)\n",
    "    return X\n",
    "\n",
    "X_train = preprocess(train_df.drop('label', axis=1))\n",
    "X_test = preprocess(test_df.drop('label', axis=1))\n",
    "y_train = train_df['label']\n",
    "y_test = test_df['label']\n",
    "X_train.head()"
   ]
  },
  {
   "cell_type": "markdown",
   "metadata": {},
   "source": [
    "### Using sklearn vectorize instead for feature engineering"
   ]
  },
  {
   "cell_type": "code",
   "execution_count": 9,
   "metadata": {},
   "outputs": [],
   "source": [
    "from sklearn.feature_extraction.text import TfidfVectorizer\n",
    "from sklearn.feature_selection import SelectKBest, chi2\n",
    "\n",
    "vectorizer = TfidfVectorizer(max_features=1000, min_df=5, max_df=0.7)\n",
    "\n",
    "def preprocess(X, vectorizer):\n",
    "    features = vectorizer.transform(X['text'])\n",
    "    return features\n",
    "\n",
    "# Fit the vectorizer on the training data only\n",
    "vectorizer.fit(train_df['text'])\n",
    "\n",
    "X_train_tfidf = preprocess(train_df, vectorizer)\n",
    "X_test_tfidf = preprocess(test_df, vectorizer)\n",
    "y_train_tfidf = train_df['label']\n",
    "y_test_tfidf = test_df['label']"
   ]
  },
  {
   "cell_type": "markdown",
   "metadata": {},
   "source": [
    "# Modelling"
   ]
  },
  {
   "cell_type": "markdown",
   "metadata": {},
   "source": [
    "### 1. MultinomialNB with Tfidf"
   ]
  },
  {
   "cell_type": "code",
   "execution_count": 10,
   "metadata": {},
   "outputs": [
    {
     "data": {
      "text/plain": [
       "0.9265432098765433"
      ]
     },
     "execution_count": 10,
     "metadata": {},
     "output_type": "execute_result"
    }
   ],
   "source": [
    "from naive_bayes import MultinomialNB\n",
    "\n",
    "multi = MultinomialNB()\n",
    "multi.fit(X_train_tfidf, y_train_tfidf)\n",
    "y_test_multi_tfidf = multi.predict(X_test_tfidf)\n",
    "accuracy_score(y_test_multi_tfidf, y_test)"
   ]
  },
  {
   "cell_type": "markdown",
   "metadata": {},
   "source": [
    "### 1.2 MultinomialNB with no Tfidf and just some keywords"
   ]
  },
  {
   "cell_type": "code",
   "execution_count": 12,
   "metadata": {},
   "outputs": [
    {
     "data": {
      "text/plain": [
       "0.6309670781893004"
      ]
     },
     "execution_count": 12,
     "metadata": {},
     "output_type": "execute_result"
    }
   ],
   "source": [
    "from naive_bayes import MultinomialNB\n",
    "\n",
    "multi = MultinomialNB()\n",
    "model = multi.fit(X_train, y_train)\n",
    "y_test_multi = multi.predict(X_test)\n",
    "accuracy_score(y_test_multi, y_test)"
   ]
  },
  {
   "cell_type": "markdown",
   "metadata": {},
   "source": [
    "### 2. BernoulliNB"
   ]
  },
  {
   "cell_type": "code",
   "execution_count": null,
   "metadata": {},
   "outputs": [],
   "source": [
    "from naive_bayes import BernoulliNB\n",
    "# from baseline import BernoulliNB\n",
    "\n",
    "bern = BernoulliNB()\n",
    "bern.fit(X_train, y_train)\n",
    "y_pred_bern = bern.predict(X_test)\n",
    "accuracy_score(y_test, y_pred_bern)"
   ]
  },
  {
   "cell_type": "markdown",
   "metadata": {},
   "source": [
    "### 3. Sklearn baseline"
   ]
  },
  {
   "cell_type": "code",
   "execution_count": null,
   "metadata": {},
   "outputs": [],
   "source": [
    "import pandas as pd\n",
    "from sklearn.feature_extraction.text import CountVectorizer\n",
    "from sklearn.naive_bayes import BernoulliNB as sk_BernoulliNB\n",
    "from sklearn.model_selection import train_test_split\n",
    "\n",
    "bern_sk = sk_BernoulliNB()\n",
    "bern_sk.fit(X_train, y_train)\n",
    "y_pred_sk = bern_sk.predict(X_test)\n",
    "accuracy_score(y_test, y_pred_sk)"
   ]
  },
  {
   "cell_type": "markdown",
   "metadata": {},
   "source": [
    "# Question 1: 5%, 50%, 100% of dataset for training"
   ]
  },
  {
   "cell_type": "code",
   "execution_count": null,
   "metadata": {},
   "outputs": [],
   "source": [
    "for size in [0.05, 0.5, 1]:\n",
    "    print(\"Test size:\", size)\n",
    "    train_df, test_df = train_test_split(data, test_size=size)\n",
    "    X_train = preprocess(train_df.drop('label', axis=1))\n",
    "    X_test = preprocess(test_df.drop('label', axis=1))\n",
    "    y_train = train_df['label']\n",
    "    y_test = test_df['label']\n",
    "    bern = BernoulliNB()\n",
    "    bern.fit(X_train, y_train)\n",
    "    y_pred_bern = bern.predict(X_test)\n",
    "    print(f\"Custom BernoulliNB accuracy for test size {size}: {accuracy_score(y_test, y_pred_bern)}\")\n",
    "\n",
    "    multi = MultinomialNB()\n",
    "    multi.fit(X_train, y_train)\n",
    "    y_test_multi = multi.predict(X_test)\n",
    "    print(f\"Custom MultinomialNB accuracy for test size {size}: {accuracy_score(y_test_multi, y_test)}\")\n",
    "\n",
    "    print(\"\\n\")\n",
    "    "
   ]
  },
  {
   "cell_type": "markdown",
   "metadata": {},
   "source": [
    "# K-Fold cross validation"
   ]
  },
  {
   "cell_type": "code",
   "execution_count": null,
   "metadata": {},
   "outputs": [],
   "source": [
    "from sklearn.model_selection import KFold\n",
    "\n",
    "k = 5\n",
    "\n",
    "kf = KFold(n_splits=k, shuffle=True, random_state=42)\n",
    "\n",
    "for train_index, test_index in kf.split(data):\n",
    "    train_df = data.iloc[train_index]\n",
    "    test_df = data.iloc[test_index]\n",
    "\n",
    "    X_train = preprocess(train_df.drop('label', axis=1))\n",
    "    X_test = preprocess(test_df.drop('label', axis=1))\n",
    "    y_train = train_df['label']\n",
    "    y_test = test_df['label']\n",
    "\n",
    "    myBNB = BernoulliNB()\n",
    "    myBNB.fit(X_train, y_train)\n",
    "    y_pred = myBNB.predict(X_test)\n",
    "    print(\"Bernoulli NB:\", (y_test == y_pred).mean())\n",
    "\n",
    "    bnb = sk_BernoulliNB()\n",
    "    bnb.fit(X_train, y_train)\n",
    "    sk_y_pred = bnb.predict(X_test)\n",
    "    print(\"Multinomial NB:\", accuracy_score(y_test, sk_y_pred))\n",
    "\n",
    "    print(\"\\n\")"
   ]
  }
 ],
 "metadata": {
  "kernelspec": {
   "display_name": "Python 3",
   "language": "python",
   "name": "python3"
  },
  "language_info": {
   "codemirror_mode": {
    "name": "ipython",
    "version": 3
   },
   "file_extension": ".py",
   "mimetype": "text/x-python",
   "name": "python",
   "nbconvert_exporter": "python",
   "pygments_lexer": "ipython3",
   "version": "3.10.5"
  }
 },
 "nbformat": 4,
 "nbformat_minor": 2
}
