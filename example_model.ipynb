{
 "cells": [
  {
   "cell_type": "code",
   "execution_count": 1,
   "metadata": {},
   "outputs": [],
   "source": [
    "import pandas as pd\n",
    "import numpy as np\n",
    "import os\n",
    "from sklearn.metrics import accuracy_score\n",
    "np.random.seed(42)"
   ]
  },
  {
   "cell_type": "markdown",
   "metadata": {},
   "source": [
    "# Data Exploration"
   ]
  },
  {
   "cell_type": "code",
   "execution_count": 2,
   "metadata": {},
   "outputs": [
    {
     "data": {
      "text/html": [
       "<div>\n",
       "<style scoped>\n",
       "    .dataframe tbody tr th:only-of-type {\n",
       "        vertical-align: middle;\n",
       "    }\n",
       "\n",
       "    .dataframe tbody tr th {\n",
       "        vertical-align: top;\n",
       "    }\n",
       "\n",
       "    .dataframe thead th {\n",
       "        text-align: right;\n",
       "    }\n",
       "</style>\n",
       "<table border=\"1\" class=\"dataframe\">\n",
       "  <thead>\n",
       "    <tr style=\"text-align: right;\">\n",
       "      <th></th>\n",
       "      <th>label</th>\n",
       "      <th>text</th>\n",
       "    </tr>\n",
       "  </thead>\n",
       "  <tbody>\n",
       "    <tr>\n",
       "      <th>0</th>\n",
       "      <td>0</td>\n",
       "      <td>Received: from rodan.UU.NET by aramis.rutgers....</td>\n",
       "    </tr>\n",
       "    <tr>\n",
       "      <th>1</th>\n",
       "      <td>1</td>\n",
       "      <td>Received: from unknown (HELO groucho.cs.psu.ed...</td>\n",
       "    </tr>\n",
       "    <tr>\n",
       "      <th>2</th>\n",
       "      <td>1</td>\n",
       "      <td>Received:\\n\\tfrom 24-151-178-89.dhcp.kgpt.tn.c...</td>\n",
       "    </tr>\n",
       "    <tr>\n",
       "      <th>3</th>\n",
       "      <td>0</td>\n",
       "      <td>Received: from psuvax1.cs.psu.edu ([130.203.2....</td>\n",
       "    </tr>\n",
       "    <tr>\n",
       "      <th>4</th>\n",
       "      <td>1</td>\n",
       "      <td>Received: from 201-1-198-159.dsl.telesp.net.br...</td>\n",
       "    </tr>\n",
       "  </tbody>\n",
       "</table>\n",
       "</div>"
      ],
      "text/plain": [
       "   label                                               text\n",
       "0      0  Received: from rodan.UU.NET by aramis.rutgers....\n",
       "1      1  Received: from unknown (HELO groucho.cs.psu.ed...\n",
       "2      1  Received:\\n\\tfrom 24-151-178-89.dhcp.kgpt.tn.c...\n",
       "3      0  Received: from psuvax1.cs.psu.edu ([130.203.2....\n",
       "4      1  Received: from 201-1-198-159.dsl.telesp.net.br..."
      ]
     },
     "execution_count": 2,
     "metadata": {},
     "output_type": "execute_result"
    }
   ],
   "source": [
    "index_path = './trec06p/label/index'\n",
    "data_dir = './trec06p/data/'\n",
    "with open(index_path) as f:\n",
    "    index_list = f.readlines()\n",
    "\n",
    "index_dict = {}\n",
    "for index in index_list:\n",
    "    index = index.split()\n",
    "    index_dict[index[1]] = 1 if index[0] == 'spam' else 0\n",
    "\n",
    "corpus = []\n",
    "labels = []\n",
    "for key, value in index_dict.items():\n",
    "    with open(os.path.join(data_dir, key)) as f:\n",
    "        try:\n",
    "            corpus.append(f.read())\n",
    "            labels.append(value)\n",
    "        except:\n",
    "            pass\n",
    "\n",
    "raw_data = pd.DataFrame({'label': labels, 'text': corpus})\n",
    "raw_data.head()"
   ]
  },
  {
   "cell_type": "markdown",
   "metadata": {},
   "source": [
    "### Toy dataset (没什么用，拿来测试模型能不能正常跑)"
   ]
  },
  {
   "cell_type": "code",
   "execution_count": 3,
   "metadata": {},
   "outputs": [],
   "source": [
    "toy = [\n",
    "    {\"text\": \"Win big prizes now!\", \"label\": \"spam\"},\n",
    "    {\"text\": \"Important information about your account\", \"label\": \"spam\"},\n",
    "    {\"text\": \"Dear friend, I have a business proposal for you\", \"label\": \"spam\"},\n",
    "    {\"text\": \"This is a normal email, nothing suspicious\", \"label\": \"not spam\"},\n",
    "    {\"text\": \"Another normal message\", \"label\": \"not spam\"},\n",
    "    {\"text\": \"Limited time offer, buy now and save big!\", \"label\": \"spam\"}\n",
    "]\n",
    "toy_df = pd.DataFrame(toy, columns=[\"label\", \"text\"])\n",
    "toy_df['label'] = toy_df['label'].apply(lambda x: 1 if x == 'spam' else 0)\n",
    "# data = toy_df # uncomment this line to use the toy dataset"
   ]
  },
  {
   "cell_type": "markdown",
   "metadata": {},
   "source": [
    "# Doing things to the dataset"
   ]
  },
  {
   "cell_type": "markdown",
   "metadata": {},
   "source": [
    "### 1.1 Converting to lower case"
   ]
  },
  {
   "cell_type": "code",
   "execution_count": 4,
   "metadata": {},
   "outputs": [],
   "source": [
    "data = raw_data.copy()\n",
    "data['text'] = data['text'].apply(lambda x: x.lower())"
   ]
  },
  {
   "cell_type": "markdown",
   "metadata": {},
   "source": [
    "### 1.2 Data balancing （发现没有balance效果更好)"
   ]
  },
  {
   "cell_type": "code",
   "execution_count": 5,
   "metadata": {},
   "outputs": [
    {
     "data": {
      "text/plain": [
       "1    20030\n",
       "0    12371\n",
       "Name: label, dtype: int64"
      ]
     },
     "execution_count": 5,
     "metadata": {},
     "output_type": "execute_result"
    }
   ],
   "source": [
    "# data = data.groupby('label').apply(lambda x: x.sample(n=10000, replace=True)).reset_index(drop=True)\n",
    "data.label.value_counts()"
   ]
  },
  {
   "cell_type": "markdown",
   "metadata": {},
   "source": [
    "### 2. Train test split"
   ]
  },
  {
   "cell_type": "code",
   "execution_count": 6,
   "metadata": {},
   "outputs": [],
   "source": [
    "def train_test_split(data: pd.DataFrame, test_size=0.3):\n",
    "    train_df = data.sample(frac=1-test_size)\n",
    "    test_df = data.drop(train_df.index)\n",
    "    return train_df.reset_index(drop=True), test_df.reset_index(drop=True)\n",
    "\n",
    "train_df, test_df = train_test_split(data, test_size=0.3)"
   ]
  },
  {
   "cell_type": "markdown",
   "metadata": {},
   "source": [
    "# Feature Engineering"
   ]
  },
  {
   "cell_type": "markdown",
   "metadata": {},
   "source": [
    "Using just a bunch of keywords"
   ]
  },
  {
   "cell_type": "code",
   "execution_count": 7,
   "metadata": {},
   "outputs": [],
   "source": [
    "def get_features_bernoulli(text: str):\n",
    "    keywords = [\n",
    "        'FREE', 'free', 'earn money', 'act now', 'click here', 'buy now',\n",
    "        'limited time offer', 'get rich quick', 'earn extra cash', 'make money fast',\n",
    "        'guaranteed', 'winner', 'bonus', 'urgent', 'credit card', 'lowest price',\n",
    "        'amazing', 'incredible deal', 'no cost', 'risk free', 'special promotion',\n",
    "        'exclusive offer', 'million dollars', 'once in a lifetime', 'password',\n",
    "        'account suspended', 'confidentiality', 'discount',\n",
    "        'win', 'winner', 'cash', 'prize', 'exclusive', 'urgent', 'important', \n",
    "        'free', 'act now', 'offer', 'credit', 'cheap', 'bonus', 'click', 'apply', 'buy', 'limited', 'guaranteed', 'save'\n",
    "    ]\n",
    "\n",
    "    features = {f'has_{keyword.replace(\" \", \"_\")}': text.lower().count(keyword.lower()) > 0 for keyword in keywords}\n",
    "    return features\n",
    "\n",
    "def get_features_multinomial(text: str):\n",
    "    keywords = [\n",
    "        'FREE', 'free', 'earn money', 'act now', 'click here', 'buy now',\n",
    "        'limited time offer', 'get rich quick', 'earn extra cash', 'make money fast',\n",
    "        'guaranteed', 'winner', 'bonus', 'urgent', 'credit card', 'lowest price',\n",
    "        'amazing', 'incredible deal', 'no cost', 'risk free', 'special promotion',\n",
    "        'exclusive offer', 'million dollars', 'once in a lifetime', 'password',\n",
    "        'account suspended', 'confidentiality', 'discount',\n",
    "        'win', 'winner', 'cash', 'prize', 'exclusive', 'urgent', 'important', \n",
    "        'free', 'act now', 'offer', 'credit', 'cheap', 'bonus', 'click', 'apply', 'buy', 'limited', 'guaranteed', 'save'\n",
    "    ]\n",
    "\n",
    "    features = {f'count_{keyword.replace(\" \", \"_\")}': text.lower().count(keyword.lower()) for keyword in keywords}\n",
    "    return features\n"
   ]
  },
  {
   "cell_type": "markdown",
   "metadata": {},
   "source": [
    "Using sklearn's tfidf vectorizer"
   ]
  },
  {
   "cell_type": "code",
   "execution_count": 8,
   "metadata": {},
   "outputs": [],
   "source": [
    "from sklearn.feature_extraction.text import TfidfVectorizer\n",
    "from sklearn.feature_selection import SelectKBest, chi2\n",
    "\n",
    "vectorizer = TfidfVectorizer(max_features=1000, min_df=5, max_df=0.7)"
   ]
  },
  {
   "cell_type": "markdown",
   "metadata": {},
   "source": [
    "# Pre-processing"
   ]
  },
  {
   "cell_type": "code",
   "execution_count": 9,
   "metadata": {},
   "outputs": [],
   "source": [
    "def preprocess(X, func):\n",
    "    features = X.iloc[:,0].apply(func).apply(pd.Series)\n",
    "    X = pd.concat([X, features], axis=1).drop('text', axis=1)\n",
    "    return X"
   ]
  },
  {
   "cell_type": "code",
   "execution_count": 10,
   "metadata": {},
   "outputs": [],
   "source": [
    "y_train = train_df['label']\n",
    "y_test = test_df['label']"
   ]
  },
  {
   "cell_type": "markdown",
   "metadata": {},
   "source": [
    "BernoulliNB"
   ]
  },
  {
   "cell_type": "code",
   "execution_count": 11,
   "metadata": {},
   "outputs": [
    {
     "data": {
      "text/html": [
       "<div>\n",
       "<style scoped>\n",
       "    .dataframe tbody tr th:only-of-type {\n",
       "        vertical-align: middle;\n",
       "    }\n",
       "\n",
       "    .dataframe tbody tr th {\n",
       "        vertical-align: top;\n",
       "    }\n",
       "\n",
       "    .dataframe thead th {\n",
       "        text-align: right;\n",
       "    }\n",
       "</style>\n",
       "<table border=\"1\" class=\"dataframe\">\n",
       "  <thead>\n",
       "    <tr style=\"text-align: right;\">\n",
       "      <th></th>\n",
       "      <th>has_FREE</th>\n",
       "      <th>has_free</th>\n",
       "      <th>has_earn_money</th>\n",
       "      <th>has_act_now</th>\n",
       "      <th>has_click_here</th>\n",
       "      <th>has_buy_now</th>\n",
       "      <th>has_limited_time_offer</th>\n",
       "      <th>has_get_rich_quick</th>\n",
       "      <th>has_earn_extra_cash</th>\n",
       "      <th>has_make_money_fast</th>\n",
       "      <th>...</th>\n",
       "      <th>has_exclusive</th>\n",
       "      <th>has_important</th>\n",
       "      <th>has_offer</th>\n",
       "      <th>has_credit</th>\n",
       "      <th>has_cheap</th>\n",
       "      <th>has_click</th>\n",
       "      <th>has_apply</th>\n",
       "      <th>has_buy</th>\n",
       "      <th>has_limited</th>\n",
       "      <th>has_save</th>\n",
       "    </tr>\n",
       "  </thead>\n",
       "  <tbody>\n",
       "    <tr>\n",
       "      <th>0</th>\n",
       "      <td>False</td>\n",
       "      <td>False</td>\n",
       "      <td>False</td>\n",
       "      <td>False</td>\n",
       "      <td>False</td>\n",
       "      <td>False</td>\n",
       "      <td>False</td>\n",
       "      <td>False</td>\n",
       "      <td>False</td>\n",
       "      <td>False</td>\n",
       "      <td>...</td>\n",
       "      <td>False</td>\n",
       "      <td>False</td>\n",
       "      <td>True</td>\n",
       "      <td>False</td>\n",
       "      <td>False</td>\n",
       "      <td>False</td>\n",
       "      <td>False</td>\n",
       "      <td>False</td>\n",
       "      <td>False</td>\n",
       "      <td>False</td>\n",
       "    </tr>\n",
       "    <tr>\n",
       "      <th>1</th>\n",
       "      <td>False</td>\n",
       "      <td>False</td>\n",
       "      <td>False</td>\n",
       "      <td>False</td>\n",
       "      <td>False</td>\n",
       "      <td>False</td>\n",
       "      <td>False</td>\n",
       "      <td>False</td>\n",
       "      <td>False</td>\n",
       "      <td>False</td>\n",
       "      <td>...</td>\n",
       "      <td>False</td>\n",
       "      <td>False</td>\n",
       "      <td>False</td>\n",
       "      <td>False</td>\n",
       "      <td>False</td>\n",
       "      <td>False</td>\n",
       "      <td>False</td>\n",
       "      <td>True</td>\n",
       "      <td>False</td>\n",
       "      <td>False</td>\n",
       "    </tr>\n",
       "    <tr>\n",
       "      <th>2</th>\n",
       "      <td>False</td>\n",
       "      <td>False</td>\n",
       "      <td>False</td>\n",
       "      <td>False</td>\n",
       "      <td>False</td>\n",
       "      <td>False</td>\n",
       "      <td>False</td>\n",
       "      <td>False</td>\n",
       "      <td>False</td>\n",
       "      <td>False</td>\n",
       "      <td>...</td>\n",
       "      <td>False</td>\n",
       "      <td>False</td>\n",
       "      <td>False</td>\n",
       "      <td>False</td>\n",
       "      <td>False</td>\n",
       "      <td>False</td>\n",
       "      <td>False</td>\n",
       "      <td>False</td>\n",
       "      <td>False</td>\n",
       "      <td>False</td>\n",
       "    </tr>\n",
       "    <tr>\n",
       "      <th>3</th>\n",
       "      <td>False</td>\n",
       "      <td>False</td>\n",
       "      <td>False</td>\n",
       "      <td>False</td>\n",
       "      <td>False</td>\n",
       "      <td>False</td>\n",
       "      <td>False</td>\n",
       "      <td>False</td>\n",
       "      <td>False</td>\n",
       "      <td>False</td>\n",
       "      <td>...</td>\n",
       "      <td>False</td>\n",
       "      <td>False</td>\n",
       "      <td>False</td>\n",
       "      <td>False</td>\n",
       "      <td>False</td>\n",
       "      <td>False</td>\n",
       "      <td>False</td>\n",
       "      <td>False</td>\n",
       "      <td>False</td>\n",
       "      <td>False</td>\n",
       "    </tr>\n",
       "    <tr>\n",
       "      <th>4</th>\n",
       "      <td>False</td>\n",
       "      <td>False</td>\n",
       "      <td>False</td>\n",
       "      <td>False</td>\n",
       "      <td>False</td>\n",
       "      <td>False</td>\n",
       "      <td>False</td>\n",
       "      <td>False</td>\n",
       "      <td>False</td>\n",
       "      <td>False</td>\n",
       "      <td>...</td>\n",
       "      <td>False</td>\n",
       "      <td>False</td>\n",
       "      <td>False</td>\n",
       "      <td>False</td>\n",
       "      <td>False</td>\n",
       "      <td>False</td>\n",
       "      <td>False</td>\n",
       "      <td>False</td>\n",
       "      <td>False</td>\n",
       "      <td>False</td>\n",
       "    </tr>\n",
       "  </tbody>\n",
       "</table>\n",
       "<p>5 rows × 41 columns</p>\n",
       "</div>"
      ],
      "text/plain": [
       "   has_FREE  has_free  has_earn_money  has_act_now  has_click_here  \\\n",
       "0     False     False           False        False           False   \n",
       "1     False     False           False        False           False   \n",
       "2     False     False           False        False           False   \n",
       "3     False     False           False        False           False   \n",
       "4     False     False           False        False           False   \n",
       "\n",
       "   has_buy_now  has_limited_time_offer  has_get_rich_quick  \\\n",
       "0        False                   False               False   \n",
       "1        False                   False               False   \n",
       "2        False                   False               False   \n",
       "3        False                   False               False   \n",
       "4        False                   False               False   \n",
       "\n",
       "   has_earn_extra_cash  has_make_money_fast  ...  has_exclusive  \\\n",
       "0                False                False  ...          False   \n",
       "1                False                False  ...          False   \n",
       "2                False                False  ...          False   \n",
       "3                False                False  ...          False   \n",
       "4                False                False  ...          False   \n",
       "\n",
       "   has_important  has_offer  has_credit  has_cheap  has_click  has_apply  \\\n",
       "0          False       True       False      False      False      False   \n",
       "1          False      False       False      False      False      False   \n",
       "2          False      False       False      False      False      False   \n",
       "3          False      False       False      False      False      False   \n",
       "4          False      False       False      False      False      False   \n",
       "\n",
       "   has_buy  has_limited  has_save  \n",
       "0    False        False     False  \n",
       "1     True        False     False  \n",
       "2    False        False     False  \n",
       "3    False        False     False  \n",
       "4    False        False     False  \n",
       "\n",
       "[5 rows x 41 columns]"
      ]
     },
     "execution_count": 11,
     "metadata": {},
     "output_type": "execute_result"
    }
   ],
   "source": [
    "X_train_bern = preprocess(train_df.drop('label', axis=1), get_features_bernoulli)\n",
    "X_test_bern = preprocess(test_df.drop('label', axis=1), get_features_bernoulli)\n",
    "X_train_bern.head()"
   ]
  },
  {
   "cell_type": "markdown",
   "metadata": {},
   "source": [
    "MultinomialNB (my features)"
   ]
  },
  {
   "cell_type": "code",
   "execution_count": 12,
   "metadata": {},
   "outputs": [
    {
     "data": {
      "text/html": [
       "<div>\n",
       "<style scoped>\n",
       "    .dataframe tbody tr th:only-of-type {\n",
       "        vertical-align: middle;\n",
       "    }\n",
       "\n",
       "    .dataframe tbody tr th {\n",
       "        vertical-align: top;\n",
       "    }\n",
       "\n",
       "    .dataframe thead th {\n",
       "        text-align: right;\n",
       "    }\n",
       "</style>\n",
       "<table border=\"1\" class=\"dataframe\">\n",
       "  <thead>\n",
       "    <tr style=\"text-align: right;\">\n",
       "      <th></th>\n",
       "      <th>count_FREE</th>\n",
       "      <th>count_free</th>\n",
       "      <th>count_earn_money</th>\n",
       "      <th>count_act_now</th>\n",
       "      <th>count_click_here</th>\n",
       "      <th>count_buy_now</th>\n",
       "      <th>count_limited_time_offer</th>\n",
       "      <th>count_get_rich_quick</th>\n",
       "      <th>count_earn_extra_cash</th>\n",
       "      <th>count_make_money_fast</th>\n",
       "      <th>...</th>\n",
       "      <th>count_exclusive</th>\n",
       "      <th>count_important</th>\n",
       "      <th>count_offer</th>\n",
       "      <th>count_credit</th>\n",
       "      <th>count_cheap</th>\n",
       "      <th>count_click</th>\n",
       "      <th>count_apply</th>\n",
       "      <th>count_buy</th>\n",
       "      <th>count_limited</th>\n",
       "      <th>count_save</th>\n",
       "    </tr>\n",
       "  </thead>\n",
       "  <tbody>\n",
       "    <tr>\n",
       "      <th>0</th>\n",
       "      <td>0</td>\n",
       "      <td>0</td>\n",
       "      <td>0</td>\n",
       "      <td>0</td>\n",
       "      <td>0</td>\n",
       "      <td>0</td>\n",
       "      <td>0</td>\n",
       "      <td>0</td>\n",
       "      <td>0</td>\n",
       "      <td>0</td>\n",
       "      <td>...</td>\n",
       "      <td>0</td>\n",
       "      <td>0</td>\n",
       "      <td>1</td>\n",
       "      <td>0</td>\n",
       "      <td>0</td>\n",
       "      <td>0</td>\n",
       "      <td>0</td>\n",
       "      <td>0</td>\n",
       "      <td>0</td>\n",
       "      <td>0</td>\n",
       "    </tr>\n",
       "    <tr>\n",
       "      <th>1</th>\n",
       "      <td>0</td>\n",
       "      <td>0</td>\n",
       "      <td>0</td>\n",
       "      <td>0</td>\n",
       "      <td>0</td>\n",
       "      <td>0</td>\n",
       "      <td>0</td>\n",
       "      <td>0</td>\n",
       "      <td>0</td>\n",
       "      <td>0</td>\n",
       "      <td>...</td>\n",
       "      <td>0</td>\n",
       "      <td>0</td>\n",
       "      <td>0</td>\n",
       "      <td>0</td>\n",
       "      <td>0</td>\n",
       "      <td>0</td>\n",
       "      <td>0</td>\n",
       "      <td>1</td>\n",
       "      <td>0</td>\n",
       "      <td>0</td>\n",
       "    </tr>\n",
       "    <tr>\n",
       "      <th>2</th>\n",
       "      <td>0</td>\n",
       "      <td>0</td>\n",
       "      <td>0</td>\n",
       "      <td>0</td>\n",
       "      <td>0</td>\n",
       "      <td>0</td>\n",
       "      <td>0</td>\n",
       "      <td>0</td>\n",
       "      <td>0</td>\n",
       "      <td>0</td>\n",
       "      <td>...</td>\n",
       "      <td>0</td>\n",
       "      <td>0</td>\n",
       "      <td>0</td>\n",
       "      <td>0</td>\n",
       "      <td>0</td>\n",
       "      <td>0</td>\n",
       "      <td>0</td>\n",
       "      <td>0</td>\n",
       "      <td>0</td>\n",
       "      <td>0</td>\n",
       "    </tr>\n",
       "    <tr>\n",
       "      <th>3</th>\n",
       "      <td>0</td>\n",
       "      <td>0</td>\n",
       "      <td>0</td>\n",
       "      <td>0</td>\n",
       "      <td>0</td>\n",
       "      <td>0</td>\n",
       "      <td>0</td>\n",
       "      <td>0</td>\n",
       "      <td>0</td>\n",
       "      <td>0</td>\n",
       "      <td>...</td>\n",
       "      <td>0</td>\n",
       "      <td>0</td>\n",
       "      <td>0</td>\n",
       "      <td>0</td>\n",
       "      <td>0</td>\n",
       "      <td>0</td>\n",
       "      <td>0</td>\n",
       "      <td>0</td>\n",
       "      <td>0</td>\n",
       "      <td>0</td>\n",
       "    </tr>\n",
       "    <tr>\n",
       "      <th>4</th>\n",
       "      <td>0</td>\n",
       "      <td>0</td>\n",
       "      <td>0</td>\n",
       "      <td>0</td>\n",
       "      <td>0</td>\n",
       "      <td>0</td>\n",
       "      <td>0</td>\n",
       "      <td>0</td>\n",
       "      <td>0</td>\n",
       "      <td>0</td>\n",
       "      <td>...</td>\n",
       "      <td>0</td>\n",
       "      <td>0</td>\n",
       "      <td>0</td>\n",
       "      <td>0</td>\n",
       "      <td>0</td>\n",
       "      <td>0</td>\n",
       "      <td>0</td>\n",
       "      <td>0</td>\n",
       "      <td>0</td>\n",
       "      <td>0</td>\n",
       "    </tr>\n",
       "  </tbody>\n",
       "</table>\n",
       "<p>5 rows × 41 columns</p>\n",
       "</div>"
      ],
      "text/plain": [
       "   count_FREE  count_free  count_earn_money  count_act_now  count_click_here  \\\n",
       "0           0           0                 0              0                 0   \n",
       "1           0           0                 0              0                 0   \n",
       "2           0           0                 0              0                 0   \n",
       "3           0           0                 0              0                 0   \n",
       "4           0           0                 0              0                 0   \n",
       "\n",
       "   count_buy_now  count_limited_time_offer  count_get_rich_quick  \\\n",
       "0              0                         0                     0   \n",
       "1              0                         0                     0   \n",
       "2              0                         0                     0   \n",
       "3              0                         0                     0   \n",
       "4              0                         0                     0   \n",
       "\n",
       "   count_earn_extra_cash  count_make_money_fast  ...  count_exclusive  \\\n",
       "0                      0                      0  ...                0   \n",
       "1                      0                      0  ...                0   \n",
       "2                      0                      0  ...                0   \n",
       "3                      0                      0  ...                0   \n",
       "4                      0                      0  ...                0   \n",
       "\n",
       "   count_important  count_offer  count_credit  count_cheap  count_click  \\\n",
       "0                0            1             0            0            0   \n",
       "1                0            0             0            0            0   \n",
       "2                0            0             0            0            0   \n",
       "3                0            0             0            0            0   \n",
       "4                0            0             0            0            0   \n",
       "\n",
       "   count_apply  count_buy  count_limited  count_save  \n",
       "0            0          0              0           0  \n",
       "1            0          1              0           0  \n",
       "2            0          0              0           0  \n",
       "3            0          0              0           0  \n",
       "4            0          0              0           0  \n",
       "\n",
       "[5 rows x 41 columns]"
      ]
     },
     "execution_count": 12,
     "metadata": {},
     "output_type": "execute_result"
    }
   ],
   "source": [
    "X_train_multi = preprocess(train_df.drop('label', axis=1), get_features_multinomial)\n",
    "X_test_multi = preprocess(test_df.drop('label', axis=1), get_features_multinomial)\n",
    "X_train_multi.head()"
   ]
  },
  {
   "cell_type": "markdown",
   "metadata": {},
   "source": [
    "MultinomialNB (tfidf features)"
   ]
  },
  {
   "cell_type": "code",
   "execution_count": 13,
   "metadata": {},
   "outputs": [],
   "source": [
    "def preprocess_tfidf(X, vectorizer):\n",
    "    features = vectorizer.transform(X['text'])\n",
    "    return features\n",
    "\n",
    "# Fit the vectorizer on the training data only\n",
    "vectorizer.fit(train_df['text'])\n",
    "\n",
    "X_train_tfidf = preprocess_tfidf(train_df, vectorizer)\n",
    "X_test_tfidf = preprocess_tfidf(test_df, vectorizer)"
   ]
  },
  {
   "cell_type": "markdown",
   "metadata": {},
   "source": [
    "# Modelling"
   ]
  },
  {
   "cell_type": "markdown",
   "metadata": {},
   "source": [
    "### 1. MultinomialNB with Tfidf"
   ]
  },
  {
   "cell_type": "code",
   "execution_count": 14,
   "metadata": {},
   "outputs": [
    {
     "data": {
      "text/plain": [
       "0.9265432098765433"
      ]
     },
     "execution_count": 14,
     "metadata": {},
     "output_type": "execute_result"
    }
   ],
   "source": [
    "from naive_bayes import MultinomialNB\n",
    "\n",
    "multi = MultinomialNB()\n",
    "multi.fit(X_train_tfidf, y_train)\n",
    "y_test_multi_tfidf = multi.predict(X_test_tfidf)\n",
    "accuracy_score(y_test_multi_tfidf, y_test)"
   ]
  },
  {
   "cell_type": "markdown",
   "metadata": {},
   "source": [
    "### 1.2 MultinomialNB with no Tfidf and just some keywords"
   ]
  },
  {
   "cell_type": "code",
   "execution_count": 15,
   "metadata": {},
   "outputs": [
    {
     "data": {
      "text/plain": [
       "0.6309670781893004"
      ]
     },
     "execution_count": 15,
     "metadata": {},
     "output_type": "execute_result"
    }
   ],
   "source": [
    "from naive_bayes import MultinomialNB\n",
    "\n",
    "multi = MultinomialNB()\n",
    "model = multi.fit(X_train_multi, y_train)\n",
    "y_test_multi = multi.predict(X_test_multi)\n",
    "accuracy_score(y_test_multi, y_test)"
   ]
  },
  {
   "cell_type": "markdown",
   "metadata": {},
   "source": [
    "### 2. BernoulliNB"
   ]
  },
  {
   "cell_type": "code",
   "execution_count": 16,
   "metadata": {},
   "outputs": [
    {
     "data": {
      "text/plain": [
       "0.6358024691358025"
      ]
     },
     "execution_count": 16,
     "metadata": {},
     "output_type": "execute_result"
    }
   ],
   "source": [
    "from naive_bayes import BernoulliNB\n",
    "# from baseline import BernoulliNB\n",
    "\n",
    "bern = BernoulliNB()\n",
    "bern.fit(X_train_bern, y_train)\n",
    "y_pred_bern = bern.predict(X_test_bern)\n",
    "accuracy_score(y_test, y_pred_bern)"
   ]
  },
  {
   "cell_type": "markdown",
   "metadata": {},
   "source": [
    "### 3. Sklearn baseline for comparison"
   ]
  },
  {
   "cell_type": "code",
   "execution_count": 17,
   "metadata": {},
   "outputs": [
    {
     "name": "stdout",
     "output_type": "stream",
     "text": [
      "0.6356995884773663\n",
      "0.9265432098765433\n"
     ]
    }
   ],
   "source": [
    "from sklearn.naive_bayes import BernoulliNB as sk_BernoulliNB\n",
    "from sklearn.naive_bayes import MultinomialNB as sk_MultinomialNB\n",
    "\n",
    "bern_sk = sk_BernoulliNB()\n",
    "bern_sk.fit(X_train_bern, y_train)\n",
    "y_pred_sk = bern_sk.predict(X_test_bern)\n",
    "print(accuracy_score(y_test, y_pred_sk))\n",
    "\n",
    "multi_sk = sk_MultinomialNB()\n",
    "multi_sk.fit(X_train_tfidf, y_train)\n",
    "y_pred_sk = multi_sk.predict(X_test_tfidf)\n",
    "print(accuracy_score(y_test, y_pred_sk))"
   ]
  },
  {
   "cell_type": "markdown",
   "metadata": {},
   "source": [
    "For BernoulliNB, my model performs slightly better than sklearn's.\n",
    "FOr MultinomialNB, my model performs identically to sklearn's"
   ]
  },
  {
   "cell_type": "markdown",
   "metadata": {},
   "source": [
    "We'll be using MultinomialNB from now on, since it has the best results."
   ]
  },
  {
   "cell_type": "markdown",
   "metadata": {},
   "source": [
    "# Question 1: 5%, 50%, 100% of dataset for training"
   ]
  },
  {
   "cell_type": "code",
   "execution_count": 18,
   "metadata": {},
   "outputs": [
    {
     "name": "stdout",
     "output_type": "stream",
     "text": [
      "Train size: 0.05\n",
      "MultinomialNB accuracy for train size 0.05: 0.9126409148500698\n",
      "Train size: 0.5\n",
      "MultinomialNB accuracy for train size 0.5: 0.9300043207209432\n",
      "Train size: 1\n",
      "MultinomialNB accuracy for train size 1: 0.9309589210209561\n"
     ]
    }
   ],
   "source": [
    "for size in [0.05, 0.5, 1]:\n",
    "    print(\"Train size:\", size)\n",
    "    \n",
    "    train_df, test_df = train_test_split(data, test_size=1-size)\n",
    "\n",
    "    if len(test_df) == 0:\n",
    "        test_df = data.copy()\n",
    "\n",
    "    X_train = preprocess_tfidf(train_df, vectorizer)\n",
    "    X_test = preprocess_tfidf(test_df, vectorizer)\n",
    "    y_train = train_df['label']\n",
    "    y_test = test_df['label']\n",
    "\n",
    "    multi = MultinomialNB()\n",
    "    multi.fit(X_train, y_train)\n",
    "    y_pred = multi.predict(X_test)\n",
    "    print(f\"MultinomialNB accuracy for train size {size}: {accuracy_score(y_pred, y_test)}\\n\")\n",
    "\n",
    "    # print(\"\\n\")\n",
    "    "
   ]
  },
  {
   "cell_type": "markdown",
   "metadata": {},
   "source": [
    "# K-Fold cross validation"
   ]
  },
  {
   "cell_type": "code",
   "execution_count": 19,
   "metadata": {},
   "outputs": [
    {
     "name": "stdout",
     "output_type": "stream",
     "text": [
      "Iteration 1: 0.9305662706372473\n",
      "Iteration 2: 0.9308641975308642\n",
      "Iteration 3: 0.9325617283950617\n",
      "Iteration 4: 0.9313271604938271\n",
      "Iteration 5: 0.9253086419753086\n"
     ]
    }
   ],
   "source": [
    "from sklearn.model_selection import KFold\n",
    "\n",
    "k = 5\n",
    "iteration = 1\n",
    "kf = KFold(n_splits=k, shuffle=True, random_state=42)\n",
    "\n",
    "for train_index, test_index in kf.split(data):\n",
    "    train_df = data.iloc[train_index]\n",
    "    test_df = data.iloc[test_index]\n",
    "\n",
    "    X_train = preprocess_tfidf(train_df, vectorizer)\n",
    "    X_test = preprocess_tfidf(test_df, vectorizer)\n",
    "    y_train = train_df['label']\n",
    "    y_test = test_df['label']\n",
    "\n",
    "    multi = MultinomialNB()\n",
    "    multi.fit(X_train, y_train)\n",
    "    y_pred = multi.predict(X_test)\n",
    "    print(f\"Iteration {iteration}: {accuracy_score(y_pred, y_test)}\")\n",
    "    iteration += 1\n",
    "\n",
    "\n",
    "    "
   ]
  }
 ],
 "metadata": {
  "kernelspec": {
   "display_name": "Python 3",
   "language": "python",
   "name": "python3"
  },
  "language_info": {
   "codemirror_mode": {
    "name": "ipython",
    "version": 3
   },
   "file_extension": ".py",
   "mimetype": "text/x-python",
   "name": "python",
   "nbconvert_exporter": "python",
   "pygments_lexer": "ipython3",
   "version": "3.10.5"
  }
 },
 "nbformat": 4,
 "nbformat_minor": 2
}
